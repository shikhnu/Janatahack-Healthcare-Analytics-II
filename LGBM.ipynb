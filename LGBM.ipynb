{
 "cells": [
  {
   "cell_type": "code",
   "execution_count": 24,
   "metadata": {
    "_cell_guid": "79c7e3d0-c299-4dcb-8224-4455121ee9b0",
    "_uuid": "d629ff2d2480ee46fbb7e2d37f6b5fab8052498a"
   },
   "outputs": [],
   "source": [
    "from numpy import mean, std\n",
    "import seaborn as sns\n",
    "from matplotlib import *\n",
    "from matplotlib import pyplot as plt\n",
    "import pandas as pd\n",
    "import numpy as np\n",
    "from catboost import CatBoostClassifier\n",
    "from sklearn.ensemble import GradientBoostingClassifier, RandomForestClassifier\n",
    "from sklearn.preprocessing import StandardScaler, LabelEncoder\n",
    "from sklearn.model_selection import train_test_split, KFold, StratifiedKFold, cross_val_score, RepeatedStratifiedKFold\n",
    "from sklearn.metrics import accuracy_score\n",
    "from lightgbm import LGBMClassifier"
   ]
  },
  {
   "cell_type": "code",
   "execution_count": 25,
   "metadata": {},
   "outputs": [
    {
     "data": {
      "text/html": [
       "<div>\n",
       "<style scoped>\n",
       "    .dataframe tbody tr th:only-of-type {\n",
       "        vertical-align: middle;\n",
       "    }\n",
       "\n",
       "    .dataframe tbody tr th {\n",
       "        vertical-align: top;\n",
       "    }\n",
       "\n",
       "    .dataframe thead th {\n",
       "        text-align: right;\n",
       "    }\n",
       "</style>\n",
       "<table border=\"1\" class=\"dataframe\">\n",
       "  <thead>\n",
       "    <tr style=\"text-align: right;\">\n",
       "      <th></th>\n",
       "      <th>case_id</th>\n",
       "      <th>Hospital_code</th>\n",
       "      <th>Hospital_type_code</th>\n",
       "      <th>City_Code_Hospital</th>\n",
       "      <th>Hospital_region_code</th>\n",
       "      <th>Available Extra Rooms in Hospital</th>\n",
       "      <th>Department</th>\n",
       "      <th>Ward_Type</th>\n",
       "      <th>Ward_Facility_Code</th>\n",
       "      <th>Bed Grade</th>\n",
       "      <th>patientid</th>\n",
       "      <th>City_Code_Patient</th>\n",
       "      <th>Type of Admission</th>\n",
       "      <th>Severity of Illness</th>\n",
       "      <th>Visitors with Patient</th>\n",
       "      <th>Age</th>\n",
       "      <th>Admission_Deposit</th>\n",
       "      <th>Stay</th>\n",
       "    </tr>\n",
       "  </thead>\n",
       "  <tbody>\n",
       "    <tr>\n",
       "      <th>0</th>\n",
       "      <td>1</td>\n",
       "      <td>8</td>\n",
       "      <td>c</td>\n",
       "      <td>3</td>\n",
       "      <td>Z</td>\n",
       "      <td>3</td>\n",
       "      <td>radiotherapy</td>\n",
       "      <td>R</td>\n",
       "      <td>F</td>\n",
       "      <td>2.0</td>\n",
       "      <td>31397</td>\n",
       "      <td>7.0</td>\n",
       "      <td>Emergency</td>\n",
       "      <td>Extreme</td>\n",
       "      <td>2</td>\n",
       "      <td>51-60</td>\n",
       "      <td>4911.0</td>\n",
       "      <td>0-10</td>\n",
       "    </tr>\n",
       "    <tr>\n",
       "      <th>1</th>\n",
       "      <td>2</td>\n",
       "      <td>2</td>\n",
       "      <td>c</td>\n",
       "      <td>5</td>\n",
       "      <td>Z</td>\n",
       "      <td>2</td>\n",
       "      <td>radiotherapy</td>\n",
       "      <td>S</td>\n",
       "      <td>F</td>\n",
       "      <td>2.0</td>\n",
       "      <td>31397</td>\n",
       "      <td>7.0</td>\n",
       "      <td>Trauma</td>\n",
       "      <td>Extreme</td>\n",
       "      <td>2</td>\n",
       "      <td>51-60</td>\n",
       "      <td>5954.0</td>\n",
       "      <td>41-50</td>\n",
       "    </tr>\n",
       "    <tr>\n",
       "      <th>2</th>\n",
       "      <td>3</td>\n",
       "      <td>10</td>\n",
       "      <td>e</td>\n",
       "      <td>1</td>\n",
       "      <td>X</td>\n",
       "      <td>2</td>\n",
       "      <td>anesthesia</td>\n",
       "      <td>S</td>\n",
       "      <td>E</td>\n",
       "      <td>2.0</td>\n",
       "      <td>31397</td>\n",
       "      <td>7.0</td>\n",
       "      <td>Trauma</td>\n",
       "      <td>Extreme</td>\n",
       "      <td>2</td>\n",
       "      <td>51-60</td>\n",
       "      <td>4745.0</td>\n",
       "      <td>31-40</td>\n",
       "    </tr>\n",
       "    <tr>\n",
       "      <th>3</th>\n",
       "      <td>4</td>\n",
       "      <td>26</td>\n",
       "      <td>b</td>\n",
       "      <td>2</td>\n",
       "      <td>Y</td>\n",
       "      <td>2</td>\n",
       "      <td>radiotherapy</td>\n",
       "      <td>R</td>\n",
       "      <td>D</td>\n",
       "      <td>2.0</td>\n",
       "      <td>31397</td>\n",
       "      <td>7.0</td>\n",
       "      <td>Trauma</td>\n",
       "      <td>Extreme</td>\n",
       "      <td>2</td>\n",
       "      <td>51-60</td>\n",
       "      <td>7272.0</td>\n",
       "      <td>41-50</td>\n",
       "    </tr>\n",
       "    <tr>\n",
       "      <th>4</th>\n",
       "      <td>5</td>\n",
       "      <td>26</td>\n",
       "      <td>b</td>\n",
       "      <td>2</td>\n",
       "      <td>Y</td>\n",
       "      <td>2</td>\n",
       "      <td>radiotherapy</td>\n",
       "      <td>S</td>\n",
       "      <td>D</td>\n",
       "      <td>2.0</td>\n",
       "      <td>31397</td>\n",
       "      <td>7.0</td>\n",
       "      <td>Trauma</td>\n",
       "      <td>Extreme</td>\n",
       "      <td>2</td>\n",
       "      <td>51-60</td>\n",
       "      <td>5558.0</td>\n",
       "      <td>41-50</td>\n",
       "    </tr>\n",
       "  </tbody>\n",
       "</table>\n",
       "</div>"
      ],
      "text/plain": [
       "   case_id  Hospital_code Hospital_type_code  City_Code_Hospital  \\\n",
       "0        1              8                  c                   3   \n",
       "1        2              2                  c                   5   \n",
       "2        3             10                  e                   1   \n",
       "3        4             26                  b                   2   \n",
       "4        5             26                  b                   2   \n",
       "\n",
       "  Hospital_region_code  Available Extra Rooms in Hospital    Department  \\\n",
       "0                    Z                                  3  radiotherapy   \n",
       "1                    Z                                  2  radiotherapy   \n",
       "2                    X                                  2    anesthesia   \n",
       "3                    Y                                  2  radiotherapy   \n",
       "4                    Y                                  2  radiotherapy   \n",
       "\n",
       "  Ward_Type Ward_Facility_Code  Bed Grade  patientid  City_Code_Patient  \\\n",
       "0         R                  F        2.0      31397                7.0   \n",
       "1         S                  F        2.0      31397                7.0   \n",
       "2         S                  E        2.0      31397                7.0   \n",
       "3         R                  D        2.0      31397                7.0   \n",
       "4         S                  D        2.0      31397                7.0   \n",
       "\n",
       "  Type of Admission Severity of Illness  Visitors with Patient    Age  \\\n",
       "0         Emergency             Extreme                      2  51-60   \n",
       "1            Trauma             Extreme                      2  51-60   \n",
       "2            Trauma             Extreme                      2  51-60   \n",
       "3            Trauma             Extreme                      2  51-60   \n",
       "4            Trauma             Extreme                      2  51-60   \n",
       "\n",
       "   Admission_Deposit   Stay  \n",
       "0             4911.0   0-10  \n",
       "1             5954.0  41-50  \n",
       "2             4745.0  31-40  \n",
       "3             7272.0  41-50  \n",
       "4             5558.0  41-50  "
      ]
     },
     "execution_count": 25,
     "metadata": {},
     "output_type": "execute_result"
    }
   ],
   "source": [
    "train_data = pd.read_csv('train.csv')\n",
    "test_data = pd.read_csv('test.csv')\n",
    "train_data.head()"
   ]
  },
  {
   "cell_type": "code",
   "execution_count": 26,
   "metadata": {},
   "outputs": [],
   "source": [
    "train_data.columns = train_data.columns.str.lower().str.strip().str.replace(' ', '_').str.replace('(', '').str.replace(')', '')\n",
    "test_data.columns = test_data.columns.str.lower().str.strip().str.replace(' ', '_').str.replace('(', '').str.replace(')', '')"
   ]
  },
  {
   "cell_type": "code",
   "execution_count": 27,
   "metadata": {},
   "outputs": [
    {
     "data": {
      "text/html": [
       "<div>\n",
       "<style scoped>\n",
       "    .dataframe tbody tr th:only-of-type {\n",
       "        vertical-align: middle;\n",
       "    }\n",
       "\n",
       "    .dataframe tbody tr th {\n",
       "        vertical-align: top;\n",
       "    }\n",
       "\n",
       "    .dataframe thead th {\n",
       "        text-align: right;\n",
       "    }\n",
       "</style>\n",
       "<table border=\"1\" class=\"dataframe\">\n",
       "  <thead>\n",
       "    <tr style=\"text-align: right;\">\n",
       "      <th></th>\n",
       "      <th>case_id</th>\n",
       "      <th>hospital_code</th>\n",
       "      <th>hospital_type_code</th>\n",
       "      <th>city_code_hospital</th>\n",
       "      <th>hospital_region_code</th>\n",
       "      <th>available_extra_rooms_in_hospital</th>\n",
       "      <th>department</th>\n",
       "      <th>ward_type</th>\n",
       "      <th>ward_facility_code</th>\n",
       "      <th>bed_grade</th>\n",
       "      <th>patientid</th>\n",
       "      <th>city_code_patient</th>\n",
       "      <th>type_of_admission</th>\n",
       "      <th>severity_of_illness</th>\n",
       "      <th>visitors_with_patient</th>\n",
       "      <th>age</th>\n",
       "      <th>admission_deposit</th>\n",
       "      <th>stay</th>\n",
       "    </tr>\n",
       "  </thead>\n",
       "  <tbody>\n",
       "    <tr>\n",
       "      <th>0</th>\n",
       "      <td>1</td>\n",
       "      <td>8</td>\n",
       "      <td>c</td>\n",
       "      <td>3</td>\n",
       "      <td>Z</td>\n",
       "      <td>3</td>\n",
       "      <td>radiotherapy</td>\n",
       "      <td>R</td>\n",
       "      <td>F</td>\n",
       "      <td>2.0</td>\n",
       "      <td>31397</td>\n",
       "      <td>7.0</td>\n",
       "      <td>Emergency</td>\n",
       "      <td>Extreme</td>\n",
       "      <td>2</td>\n",
       "      <td>51-60</td>\n",
       "      <td>4911.0</td>\n",
       "      <td>0-10</td>\n",
       "    </tr>\n",
       "    <tr>\n",
       "      <th>1</th>\n",
       "      <td>2</td>\n",
       "      <td>2</td>\n",
       "      <td>c</td>\n",
       "      <td>5</td>\n",
       "      <td>Z</td>\n",
       "      <td>2</td>\n",
       "      <td>radiotherapy</td>\n",
       "      <td>S</td>\n",
       "      <td>F</td>\n",
       "      <td>2.0</td>\n",
       "      <td>31397</td>\n",
       "      <td>7.0</td>\n",
       "      <td>Trauma</td>\n",
       "      <td>Extreme</td>\n",
       "      <td>2</td>\n",
       "      <td>51-60</td>\n",
       "      <td>5954.0</td>\n",
       "      <td>41-50</td>\n",
       "    </tr>\n",
       "    <tr>\n",
       "      <th>2</th>\n",
       "      <td>3</td>\n",
       "      <td>10</td>\n",
       "      <td>e</td>\n",
       "      <td>1</td>\n",
       "      <td>X</td>\n",
       "      <td>2</td>\n",
       "      <td>anesthesia</td>\n",
       "      <td>S</td>\n",
       "      <td>E</td>\n",
       "      <td>2.0</td>\n",
       "      <td>31397</td>\n",
       "      <td>7.0</td>\n",
       "      <td>Trauma</td>\n",
       "      <td>Extreme</td>\n",
       "      <td>2</td>\n",
       "      <td>51-60</td>\n",
       "      <td>4745.0</td>\n",
       "      <td>31-40</td>\n",
       "    </tr>\n",
       "    <tr>\n",
       "      <th>3</th>\n",
       "      <td>4</td>\n",
       "      <td>26</td>\n",
       "      <td>b</td>\n",
       "      <td>2</td>\n",
       "      <td>Y</td>\n",
       "      <td>2</td>\n",
       "      <td>radiotherapy</td>\n",
       "      <td>R</td>\n",
       "      <td>D</td>\n",
       "      <td>2.0</td>\n",
       "      <td>31397</td>\n",
       "      <td>7.0</td>\n",
       "      <td>Trauma</td>\n",
       "      <td>Extreme</td>\n",
       "      <td>2</td>\n",
       "      <td>51-60</td>\n",
       "      <td>7272.0</td>\n",
       "      <td>41-50</td>\n",
       "    </tr>\n",
       "    <tr>\n",
       "      <th>4</th>\n",
       "      <td>5</td>\n",
       "      <td>26</td>\n",
       "      <td>b</td>\n",
       "      <td>2</td>\n",
       "      <td>Y</td>\n",
       "      <td>2</td>\n",
       "      <td>radiotherapy</td>\n",
       "      <td>S</td>\n",
       "      <td>D</td>\n",
       "      <td>2.0</td>\n",
       "      <td>31397</td>\n",
       "      <td>7.0</td>\n",
       "      <td>Trauma</td>\n",
       "      <td>Extreme</td>\n",
       "      <td>2</td>\n",
       "      <td>51-60</td>\n",
       "      <td>5558.0</td>\n",
       "      <td>41-50</td>\n",
       "    </tr>\n",
       "  </tbody>\n",
       "</table>\n",
       "</div>"
      ],
      "text/plain": [
       "   case_id  hospital_code hospital_type_code  city_code_hospital  \\\n",
       "0        1              8                  c                   3   \n",
       "1        2              2                  c                   5   \n",
       "2        3             10                  e                   1   \n",
       "3        4             26                  b                   2   \n",
       "4        5             26                  b                   2   \n",
       "\n",
       "  hospital_region_code  available_extra_rooms_in_hospital    department  \\\n",
       "0                    Z                                  3  radiotherapy   \n",
       "1                    Z                                  2  radiotherapy   \n",
       "2                    X                                  2    anesthesia   \n",
       "3                    Y                                  2  radiotherapy   \n",
       "4                    Y                                  2  radiotherapy   \n",
       "\n",
       "  ward_type ward_facility_code  bed_grade  patientid  city_code_patient  \\\n",
       "0         R                  F        2.0      31397                7.0   \n",
       "1         S                  F        2.0      31397                7.0   \n",
       "2         S                  E        2.0      31397                7.0   \n",
       "3         R                  D        2.0      31397                7.0   \n",
       "4         S                  D        2.0      31397                7.0   \n",
       "\n",
       "  type_of_admission severity_of_illness  visitors_with_patient    age  \\\n",
       "0         Emergency             Extreme                      2  51-60   \n",
       "1            Trauma             Extreme                      2  51-60   \n",
       "2            Trauma             Extreme                      2  51-60   \n",
       "3            Trauma             Extreme                      2  51-60   \n",
       "4            Trauma             Extreme                      2  51-60   \n",
       "\n",
       "   admission_deposit   stay  \n",
       "0             4911.0   0-10  \n",
       "1             5954.0  41-50  \n",
       "2             4745.0  31-40  \n",
       "3             7272.0  41-50  \n",
       "4             5558.0  41-50  "
      ]
     },
     "execution_count": 27,
     "metadata": {},
     "output_type": "execute_result"
    }
   ],
   "source": [
    "train_data.head()"
   ]
  },
  {
   "cell_type": "code",
   "execution_count": 28,
   "metadata": {},
   "outputs": [
    {
     "name": "stdout",
     "output_type": "stream",
     "text": [
      "Train Data Shape:  (318438, 18)\n",
      "Test Data Shape:  (137057, 17)\n"
     ]
    },
    {
     "data": {
      "text/html": [
       "<div>\n",
       "<style scoped>\n",
       "    .dataframe tbody tr th:only-of-type {\n",
       "        vertical-align: middle;\n",
       "    }\n",
       "\n",
       "    .dataframe tbody tr th {\n",
       "        vertical-align: top;\n",
       "    }\n",
       "\n",
       "    .dataframe thead th {\n",
       "        text-align: right;\n",
       "    }\n",
       "</style>\n",
       "<table border=\"1\" class=\"dataframe\">\n",
       "  <thead>\n",
       "    <tr style=\"text-align: right;\">\n",
       "      <th></th>\n",
       "      <th>case_id</th>\n",
       "      <th>hospital_code</th>\n",
       "      <th>hospital_type_code</th>\n",
       "      <th>city_code_hospital</th>\n",
       "      <th>hospital_region_code</th>\n",
       "      <th>available_extra_rooms_in_hospital</th>\n",
       "      <th>department</th>\n",
       "      <th>ward_type</th>\n",
       "      <th>ward_facility_code</th>\n",
       "      <th>bed_grade</th>\n",
       "      <th>patientid</th>\n",
       "      <th>city_code_patient</th>\n",
       "      <th>type_of_admission</th>\n",
       "      <th>severity_of_illness</th>\n",
       "      <th>visitors_with_patient</th>\n",
       "      <th>age</th>\n",
       "      <th>admission_deposit</th>\n",
       "      <th>stay</th>\n",
       "    </tr>\n",
       "  </thead>\n",
       "  <tbody>\n",
       "    <tr>\n",
       "      <th>0</th>\n",
       "      <td>1</td>\n",
       "      <td>8</td>\n",
       "      <td>c</td>\n",
       "      <td>3</td>\n",
       "      <td>Z</td>\n",
       "      <td>3</td>\n",
       "      <td>radiotherapy</td>\n",
       "      <td>R</td>\n",
       "      <td>F</td>\n",
       "      <td>2.0</td>\n",
       "      <td>31397</td>\n",
       "      <td>7.0</td>\n",
       "      <td>Emergency</td>\n",
       "      <td>Extreme</td>\n",
       "      <td>2</td>\n",
       "      <td>51-60</td>\n",
       "      <td>4911.0</td>\n",
       "      <td>0-10</td>\n",
       "    </tr>\n",
       "    <tr>\n",
       "      <th>1</th>\n",
       "      <td>2</td>\n",
       "      <td>2</td>\n",
       "      <td>c</td>\n",
       "      <td>5</td>\n",
       "      <td>Z</td>\n",
       "      <td>2</td>\n",
       "      <td>radiotherapy</td>\n",
       "      <td>S</td>\n",
       "      <td>F</td>\n",
       "      <td>2.0</td>\n",
       "      <td>31397</td>\n",
       "      <td>7.0</td>\n",
       "      <td>Trauma</td>\n",
       "      <td>Extreme</td>\n",
       "      <td>2</td>\n",
       "      <td>51-60</td>\n",
       "      <td>5954.0</td>\n",
       "      <td>41-50</td>\n",
       "    </tr>\n",
       "    <tr>\n",
       "      <th>2</th>\n",
       "      <td>3</td>\n",
       "      <td>10</td>\n",
       "      <td>e</td>\n",
       "      <td>1</td>\n",
       "      <td>X</td>\n",
       "      <td>2</td>\n",
       "      <td>anesthesia</td>\n",
       "      <td>S</td>\n",
       "      <td>E</td>\n",
       "      <td>2.0</td>\n",
       "      <td>31397</td>\n",
       "      <td>7.0</td>\n",
       "      <td>Trauma</td>\n",
       "      <td>Extreme</td>\n",
       "      <td>2</td>\n",
       "      <td>51-60</td>\n",
       "      <td>4745.0</td>\n",
       "      <td>31-40</td>\n",
       "    </tr>\n",
       "    <tr>\n",
       "      <th>3</th>\n",
       "      <td>4</td>\n",
       "      <td>26</td>\n",
       "      <td>b</td>\n",
       "      <td>2</td>\n",
       "      <td>Y</td>\n",
       "      <td>2</td>\n",
       "      <td>radiotherapy</td>\n",
       "      <td>R</td>\n",
       "      <td>D</td>\n",
       "      <td>2.0</td>\n",
       "      <td>31397</td>\n",
       "      <td>7.0</td>\n",
       "      <td>Trauma</td>\n",
       "      <td>Extreme</td>\n",
       "      <td>2</td>\n",
       "      <td>51-60</td>\n",
       "      <td>7272.0</td>\n",
       "      <td>41-50</td>\n",
       "    </tr>\n",
       "    <tr>\n",
       "      <th>4</th>\n",
       "      <td>5</td>\n",
       "      <td>26</td>\n",
       "      <td>b</td>\n",
       "      <td>2</td>\n",
       "      <td>Y</td>\n",
       "      <td>2</td>\n",
       "      <td>radiotherapy</td>\n",
       "      <td>S</td>\n",
       "      <td>D</td>\n",
       "      <td>2.0</td>\n",
       "      <td>31397</td>\n",
       "      <td>7.0</td>\n",
       "      <td>Trauma</td>\n",
       "      <td>Extreme</td>\n",
       "      <td>2</td>\n",
       "      <td>51-60</td>\n",
       "      <td>5558.0</td>\n",
       "      <td>41-50</td>\n",
       "    </tr>\n",
       "  </tbody>\n",
       "</table>\n",
       "</div>"
      ],
      "text/plain": [
       "   case_id  hospital_code hospital_type_code  city_code_hospital  \\\n",
       "0        1              8                  c                   3   \n",
       "1        2              2                  c                   5   \n",
       "2        3             10                  e                   1   \n",
       "3        4             26                  b                   2   \n",
       "4        5             26                  b                   2   \n",
       "\n",
       "  hospital_region_code  available_extra_rooms_in_hospital    department  \\\n",
       "0                    Z                                  3  radiotherapy   \n",
       "1                    Z                                  2  radiotherapy   \n",
       "2                    X                                  2    anesthesia   \n",
       "3                    Y                                  2  radiotherapy   \n",
       "4                    Y                                  2  radiotherapy   \n",
       "\n",
       "  ward_type ward_facility_code  bed_grade  patientid  city_code_patient  \\\n",
       "0         R                  F        2.0      31397                7.0   \n",
       "1         S                  F        2.0      31397                7.0   \n",
       "2         S                  E        2.0      31397                7.0   \n",
       "3         R                  D        2.0      31397                7.0   \n",
       "4         S                  D        2.0      31397                7.0   \n",
       "\n",
       "  type_of_admission severity_of_illness  visitors_with_patient    age  \\\n",
       "0         Emergency             Extreme                      2  51-60   \n",
       "1            Trauma             Extreme                      2  51-60   \n",
       "2            Trauma             Extreme                      2  51-60   \n",
       "3            Trauma             Extreme                      2  51-60   \n",
       "4            Trauma             Extreme                      2  51-60   \n",
       "\n",
       "   admission_deposit   stay  \n",
       "0             4911.0   0-10  \n",
       "1             5954.0  41-50  \n",
       "2             4745.0  31-40  \n",
       "3             7272.0  41-50  \n",
       "4             5558.0  41-50  "
      ]
     },
     "execution_count": 28,
     "metadata": {},
     "output_type": "execute_result"
    }
   ],
   "source": [
    "print('Train Data Shape: ', train_data.shape)\n",
    "print('Test Data Shape: ', test_data.shape)\n",
    "train_data.head()"
   ]
  },
  {
   "cell_type": "code",
   "execution_count": 29,
   "metadata": {},
   "outputs": [
    {
     "data": {
      "text/plain": [
       "case_id                                int64\n",
       "hospital_code                          int64\n",
       "hospital_type_code                    object\n",
       "city_code_hospital                     int64\n",
       "hospital_region_code                  object\n",
       "available_extra_rooms_in_hospital      int64\n",
       "department                            object\n",
       "ward_type                             object\n",
       "ward_facility_code                    object\n",
       "bed_grade                            float64\n",
       "patientid                              int64\n",
       "city_code_patient                    float64\n",
       "type_of_admission                     object\n",
       "severity_of_illness                   object\n",
       "visitors_with_patient                  int64\n",
       "age                                   object\n",
       "admission_deposit                    float64\n",
       "stay                                  object\n",
       "dtype: object"
      ]
     },
     "execution_count": 29,
     "metadata": {},
     "output_type": "execute_result"
    }
   ],
   "source": [
    "train_data.dtypes"
   ]
  },
  {
   "cell_type": "code",
   "execution_count": 30,
   "metadata": {},
   "outputs": [
    {
     "data": {
      "text/plain": [
       "case_id                                 0\n",
       "hospital_code                           0\n",
       "hospital_type_code                      0\n",
       "city_code_hospital                      0\n",
       "hospital_region_code                    0\n",
       "available_extra_rooms_in_hospital       0\n",
       "department                              0\n",
       "ward_type                               0\n",
       "ward_facility_code                      0\n",
       "bed_grade                             113\n",
       "patientid                               0\n",
       "city_code_patient                    4532\n",
       "type_of_admission                       0\n",
       "severity_of_illness                     0\n",
       "visitors_with_patient                   0\n",
       "age                                     0\n",
       "admission_deposit                       0\n",
       "stay                                    0\n",
       "dtype: int64"
      ]
     },
     "execution_count": 30,
     "metadata": {},
     "output_type": "execute_result"
    }
   ],
   "source": [
    "train_data.isnull().sum()"
   ]
  },
  {
   "cell_type": "code",
   "execution_count": 31,
   "metadata": {},
   "outputs": [
    {
     "data": {
      "text/plain": [
       "case_id                              318438\n",
       "hospital_code                            32\n",
       "hospital_type_code                        7\n",
       "city_code_hospital                       11\n",
       "hospital_region_code                      3\n",
       "available_extra_rooms_in_hospital        18\n",
       "department                                5\n",
       "ward_type                                 6\n",
       "ward_facility_code                        6\n",
       "bed_grade                                 4\n",
       "patientid                             92017\n",
       "city_code_patient                        37\n",
       "type_of_admission                         3\n",
       "severity_of_illness                       3\n",
       "visitors_with_patient                    28\n",
       "age                                      10\n",
       "admission_deposit                      7300\n",
       "stay                                     11\n",
       "dtype: int64"
      ]
     },
     "execution_count": 31,
     "metadata": {},
     "output_type": "execute_result"
    }
   ],
   "source": [
    "train_data.nunique()"
   ]
  },
  {
   "cell_type": "code",
   "execution_count": 32,
   "metadata": {},
   "outputs": [
    {
     "data": {
      "text/plain": [
       "Index(['case_id', 'hospital_code', 'hospital_type_code', 'city_code_hospital',\n",
       "       'hospital_region_code', 'available_extra_rooms_in_hospital',\n",
       "       'department', 'ward_type', 'ward_facility_code', 'bed_grade',\n",
       "       'patientid', 'city_code_patient', 'type_of_admission',\n",
       "       'severity_of_illness', 'visitors_with_patient', 'age',\n",
       "       'admission_deposit', 'stay'],\n",
       "      dtype='object')"
      ]
     },
     "execution_count": 32,
     "metadata": {},
     "output_type": "execute_result"
    }
   ],
   "source": [
    "train_data.columns"
   ]
  },
  {
   "cell_type": "code",
   "execution_count": 33,
   "metadata": {},
   "outputs": [
    {
     "name": "stdout",
     "output_type": "stream",
     "text": [
      " Unique Values --> hospital_code : 32 :  [ 8  2 10 26 23 32  1 22 16  9  6 29 12  3 21 28 27 19  5 14 13 31 24 17\n",
      " 25 15 11 30 18  4  7 20]\n",
      " Unique Values --> hospital_type_code : 7 :  ['c' 'e' 'b' 'a' 'f' 'd' 'g']\n",
      " Unique Values --> city_code_hospital : 11 :  [ 3  5  1  2  6  9 10  4 11  7 13]\n",
      " Unique Values --> hospital_region_code : 3 :  ['Z' 'X' 'Y']\n",
      " Unique Values --> available_extra_rooms_in_hospital : 18 :  [ 3  2  1  4  6  5  7  8  9 10 12  0 11 20 14 21 13 24]\n",
      " Unique Values --> department : 5 :  ['radiotherapy' 'anesthesia' 'gynecology' 'TB & Chest disease' 'surgery']\n",
      " Unique Values --> ward_type : 6 :  ['R' 'S' 'Q' 'P' 'T' 'U']\n",
      " Unique Values --> ward_facility_code : 6 :  ['F' 'E' 'D' 'B' 'A' 'C']\n",
      " Unique Values --> bed_grade : 5 :  [ 2.  3.  4.  1. nan]\n",
      " Unique Values --> city_code_patient : 38 :  [ 7.  8.  2.  5.  6.  3.  4.  1.  9. 14. nan 25. 15. 12. 10. 28. 24. 23.\n",
      " 20. 11. 13. 21. 18. 16. 26. 27. 22. 19. 31. 34. 32. 30. 29. 37. 33. 35.\n",
      " 36. 38.]\n",
      " Unique Values --> type_of_admission : 3 :  ['Emergency' 'Trauma' 'Urgent']\n",
      " Unique Values --> severity_of_illness : 3 :  ['Extreme' 'Moderate' 'Minor']\n",
      " Unique Values --> visitors_with_patient : 28 :  [ 2  4  3  8  6  7 13  5  1 10 15 11 12  9 24 16 14 20  0 19 18 17 23 21\n",
      " 32 30 22 25]\n",
      " Unique Values --> age : 10 :  ['51-60' '71-80' '31-40' '41-50' '81-90' '61-70' '21-30' '11-20' '0-10'\n",
      " '91-100']\n",
      " Unique Values --> stay : 11 :  ['0-10' '41-50' '31-40' '11-20' '51-60' '21-30' '71-80'\n",
      " 'More than 100 Days' '81-90' '61-70' '91-100']\n"
     ]
    }
   ],
   "source": [
    "# Unique values for all the columns\n",
    "for col in train_data.columns[~(train_data.columns.isin(['case_id', 'patientid', 'admission_deposit']))].tolist():\n",
    "    print(\" Unique Values --> \" + col, ':', len(train_data[col].unique()), ': ', train_data[col].unique())"
   ]
  },
  {
   "cell_type": "markdown",
   "metadata": {},
   "source": [
    "## Exploratory Data Analysis"
   ]
  },
  {
   "cell_type": "code",
   "execution_count": 34,
   "metadata": {},
   "outputs": [
    {
     "data": {
      "image/png": "[encoded data removed]",
      "text/plain": [
       "<Figure size 4320x720 with 1 Axes>"
      ]
     },
     "metadata": {
      "needs_background": "light"
     },
     "output_type": "display_data"
    },
    {
     "data": {
      "image/png": "[encoded data removed]",
      "text/plain": [
       "<Figure size 4320x720 with 1 Axes>"
      ]
     },
     "metadata": {
      "needs_background": "light"
     },
     "output_type": "display_data"
    },
    {
     "data": {
      "image/png": "[encoded data removed]",
      "text/plain": [
       "<Figure size 4320x720 with 1 Axes>"
      ]
     },
     "metadata": {
      "needs_background": "light"
     },
     "output_type": "display_data"
    },
    {
     "data": {
      "image/png": "[encoded data removed]",
      "text/plain": [
       "<Figure size 4320x720 with 1 Axes>"
      ]
     },
     "metadata": {
      "needs_background": "light"
     },
     "output_type": "display_data"
    },
    {
     "data": {
      "image/png": "[encoded data removed]",
      "text/plain": [
       "<Figure size 4320x720 with 1 Axes>"
      ]
     },
     "metadata": {
      "needs_background": "light"
     },
     "output_type": "display_data"
    },
    {
     "data": {
      "image/png": "[encoded data removed]",
      "text/plain": [
       "<Figure size 4320x720 with 1 Axes>"
      ]
     },
     "metadata": {
      "needs_background": "light"
     },
     "output_type": "display_data"
    },
    {
     "data": {
      "image/png": "[encoded data removed]",
      "text/plain": [
       "<Figure size 4320x720 with 1 Axes>"
      ]
     },
     "metadata": {
      "needs_background": "light"
     },
     "output_type": "display_data"
    },
    {
     "data": {
      "image/png": "[encoded data removed]",
      "text/plain": [
       "<Figure size 4320x720 with 1 Axes>"
      ]
     },
     "metadata": {
      "needs_background": "light"
     },
     "output_type": "display_data"
    },
    {
     "data": {
      "image/png": "[encoded data removed]",
      "text/plain": [
       "<Figure size 4320x720 with 1 Axes>"
      ]
     },
     "metadata": {
      "needs_background": "light"
     },
     "output_type": "display_data"
    },
    {
     "data": {
      "image/png": "[encoded data removed]",
      "text/plain": [
       "<Figure size 4320x720 with 1 Axes>"
      ]
     },
     "metadata": {
      "needs_background": "light"
     },
     "output_type": "display_data"
    },
    {
     "data": {
      "image/png": "[encoded data removed]",
      "text/plain": [
       "<Figure size 4320x720 with 1 Axes>"
      ]
     },
     "metadata": {
      "needs_background": "light"
     },
     "output_type": "display_data"
    },
    {
     "data": {
      "image/png": "[encoded data removed]",
      "text/plain": [
       "<Figure size 4320x720 with 1 Axes>"
      ]
     },
     "metadata": {
      "needs_background": "light"
     },
     "output_type": "display_data"
    },
    {
     "data": {
      "image/png": "[encoded data removed]",
      "text/plain": [
       "<Figure size 4320x720 with 1 Axes>"
      ]
     },
     "metadata": {
      "needs_background": "light"
     },
     "output_type": "display_data"
    },
    {
     "data": {
      "image/png": "[encoded data removed]",
      "text/plain": [
       "<Figure size 4320x720 with 1 Axes>"
      ]
     },
     "metadata": {
      "needs_background": "light"
     },
     "output_type": "display_data"
    },
    {
     "data": {
      "image/png": "[encoded data removed]",
      "text/plain": [
       "<Figure size 4320x720 with 1 Axes>"
      ]
     },
     "metadata": {
      "needs_background": "light"
     },
     "output_type": "display_data"
    }
   ],
   "source": [
    "i = 1\n",
    "for column in train_data.columns[~(train_data.columns.isin(['case_id', 'patientid', 'admission_deposit']))].tolist():\n",
    "    plt.figure(figsize = (60, 10))\n",
    "    plt.subplot(4, 4, i)\n",
    "    sns.barplot(x = train_data[column].value_counts().index, y = train_data[column].value_counts())\n",
    "    i += 1\n",
    "    plt.show()"
   ]
  },
  {
   "cell_type": "code",
   "execution_count": 35,
   "metadata": {},
   "outputs": [
    {
     "data": {
      "image/png": "[encoded data removed]",
      "text/plain": [
       "<Figure size 432x288 with 1 Axes>"
      ]
     },
     "metadata": {
      "needs_background": "light"
     },
     "output_type": "display_data"
    }
   ],
   "source": [
    "sns.boxplot(x = 'visitors_with_patient', data = train_data)\n",
    "sns.despine()"
   ]
  },
  {
   "cell_type": "code",
   "execution_count": 36,
   "metadata": {},
   "outputs": [
    {
     "data": {
      "image/png": "[encoded data removed]",
      "text/plain": [
       "<Figure size 1440x432 with 1 Axes>"
      ]
     },
     "metadata": {
      "needs_background": "light"
     },
     "output_type": "display_data"
    }
   ],
   "source": [
    "plt.figure(figsize = (20, 6))\n",
    "sns.barplot(x = train_data.groupby(['severity_of_illness'])['visitors_with_patient'].value_counts().index, y = train_data.groupby(['severity_of_illness'])['visitors_with_patient'].value_counts())\n",
    "plt.xticks(rotation = 90)\n",
    "sns.despine()"
   ]
  },
  {
   "cell_type": "code",
   "execution_count": 37,
   "metadata": {},
   "outputs": [],
   "source": [
    "train_data = train_data.fillna('NaN')\n",
    "test_data = test_data.fillna('NaN')\n",
    "\n",
    "for column in train_data.columns[~(train_data.columns.isin(['case_id', 'stay']))].tolist():\n",
    "\n",
    "    le = LabelEncoder()\n",
    "\n",
    "    if column == 'city_code_patient':\n",
    "        train_data['city_code_patient'] = train_data['city_code_patient'].astype('str')\n",
    "        test_data['city_code_patient'] = test_data['city_code_patient'].astype('str')\n",
    "        train_data['city_code_patient'] = le.fit_transform(train_data['city_code_patient'])\n",
    "        test_data['city_code_patient'] = le.fit_transform(test_data['city_code_patient'])\n",
    "    \n",
    "    elif column == 'bed_grade':\n",
    "        bedGrade = {1: '1',2: '2', 3: '3', 4: '4', np.nan: '5'}\n",
    "        train_data['bed_grade'] = train_data['bed_grade'].map(bedGrade)\n",
    "        test_data['bed_grade'] = test_data['bed_grade'].map(bedGrade)\n",
    "        train_data['bed_grade'] = train_data['bed_grade'].fillna('NaN')\n",
    "        test_data['bed_grade'] = test_data['bed_grade'].fillna('NaN')\n",
    "    \n",
    "    else:\n",
    "        train_data[column] = le.fit_transform(train_data[column])\n",
    "        test_data[column] = le.fit_transform(test_data[column])"
   ]
  },
  {
   "cell_type": "code",
   "execution_count": 38,
   "metadata": {},
   "outputs": [
    {
     "data": {
      "text/html": [
       "<div>\n",
       "<style scoped>\n",
       "    .dataframe tbody tr th:only-of-type {\n",
       "        vertical-align: middle;\n",
       "    }\n",
       "\n",
       "    .dataframe tbody tr th {\n",
       "        vertical-align: top;\n",
       "    }\n",
       "\n",
       "    .dataframe thead th {\n",
       "        text-align: right;\n",
       "    }\n",
       "</style>\n",
       "<table border=\"1\" class=\"dataframe\">\n",
       "  <thead>\n",
       "    <tr style=\"text-align: right;\">\n",
       "      <th></th>\n",
       "      <th>case_id</th>\n",
       "      <th>hospital_code</th>\n",
       "      <th>hospital_type_code</th>\n",
       "      <th>city_code_hospital</th>\n",
       "      <th>hospital_region_code</th>\n",
       "      <th>available_extra_rooms_in_hospital</th>\n",
       "      <th>department</th>\n",
       "      <th>ward_type</th>\n",
       "      <th>ward_facility_code</th>\n",
       "      <th>bed_grade</th>\n",
       "      <th>patientid</th>\n",
       "      <th>city_code_patient</th>\n",
       "      <th>type_of_admission</th>\n",
       "      <th>severity_of_illness</th>\n",
       "      <th>visitors_with_patient</th>\n",
       "      <th>age</th>\n",
       "      <th>admission_deposit</th>\n",
       "      <th>stay</th>\n",
       "    </tr>\n",
       "  </thead>\n",
       "  <tbody>\n",
       "    <tr>\n",
       "      <th>0</th>\n",
       "      <td>1</td>\n",
       "      <td>7</td>\n",
       "      <td>2</td>\n",
       "      <td>2</td>\n",
       "      <td>2</td>\n",
       "      <td>3</td>\n",
       "      <td>3</td>\n",
       "      <td>2</td>\n",
       "      <td>5</td>\n",
       "      <td>2</td>\n",
       "      <td>21972</td>\n",
       "      <td>34</td>\n",
       "      <td>0</td>\n",
       "      <td>0</td>\n",
       "      <td>2</td>\n",
       "      <td>5</td>\n",
       "      <td>2954</td>\n",
       "      <td>0-10</td>\n",
       "    </tr>\n",
       "    <tr>\n",
       "      <th>1</th>\n",
       "      <td>2</td>\n",
       "      <td>1</td>\n",
       "      <td>2</td>\n",
       "      <td>4</td>\n",
       "      <td>2</td>\n",
       "      <td>2</td>\n",
       "      <td>3</td>\n",
       "      <td>3</td>\n",
       "      <td>5</td>\n",
       "      <td>2</td>\n",
       "      <td>21972</td>\n",
       "      <td>34</td>\n",
       "      <td>1</td>\n",
       "      <td>0</td>\n",
       "      <td>2</td>\n",
       "      <td>5</td>\n",
       "      <td>3997</td>\n",
       "      <td>41-50</td>\n",
       "    </tr>\n",
       "    <tr>\n",
       "      <th>2</th>\n",
       "      <td>3</td>\n",
       "      <td>9</td>\n",
       "      <td>4</td>\n",
       "      <td>0</td>\n",
       "      <td>0</td>\n",
       "      <td>2</td>\n",
       "      <td>1</td>\n",
       "      <td>3</td>\n",
       "      <td>4</td>\n",
       "      <td>2</td>\n",
       "      <td>21972</td>\n",
       "      <td>34</td>\n",
       "      <td>1</td>\n",
       "      <td>0</td>\n",
       "      <td>2</td>\n",
       "      <td>5</td>\n",
       "      <td>2788</td>\n",
       "      <td>31-40</td>\n",
       "    </tr>\n",
       "    <tr>\n",
       "      <th>3</th>\n",
       "      <td>4</td>\n",
       "      <td>25</td>\n",
       "      <td>1</td>\n",
       "      <td>1</td>\n",
       "      <td>1</td>\n",
       "      <td>2</td>\n",
       "      <td>3</td>\n",
       "      <td>2</td>\n",
       "      <td>3</td>\n",
       "      <td>2</td>\n",
       "      <td>21972</td>\n",
       "      <td>34</td>\n",
       "      <td>1</td>\n",
       "      <td>0</td>\n",
       "      <td>2</td>\n",
       "      <td>5</td>\n",
       "      <td>5315</td>\n",
       "      <td>41-50</td>\n",
       "    </tr>\n",
       "    <tr>\n",
       "      <th>4</th>\n",
       "      <td>5</td>\n",
       "      <td>25</td>\n",
       "      <td>1</td>\n",
       "      <td>1</td>\n",
       "      <td>1</td>\n",
       "      <td>2</td>\n",
       "      <td>3</td>\n",
       "      <td>3</td>\n",
       "      <td>3</td>\n",
       "      <td>2</td>\n",
       "      <td>21972</td>\n",
       "      <td>34</td>\n",
       "      <td>1</td>\n",
       "      <td>0</td>\n",
       "      <td>2</td>\n",
       "      <td>5</td>\n",
       "      <td>3601</td>\n",
       "      <td>41-50</td>\n",
       "    </tr>\n",
       "  </tbody>\n",
       "</table>\n",
       "</div>"
      ],
      "text/plain": [
       "   case_id  hospital_code  hospital_type_code  city_code_hospital  \\\n",
       "0        1              7                   2                   2   \n",
       "1        2              1                   2                   4   \n",
       "2        3              9                   4                   0   \n",
       "3        4             25                   1                   1   \n",
       "4        5             25                   1                   1   \n",
       "\n",
       "   hospital_region_code  available_extra_rooms_in_hospital  department  \\\n",
       "0                     2                                  3           3   \n",
       "1                     2                                  2           3   \n",
       "2                     0                                  2           1   \n",
       "3                     1                                  2           3   \n",
       "4                     1                                  2           3   \n",
       "\n",
       "   ward_type  ward_facility_code bed_grade  patientid  city_code_patient  \\\n",
       "0          2                   5         2      21972                 34   \n",
       "1          3                   5         2      21972                 34   \n",
       "2          3                   4         2      21972                 34   \n",
       "3          2                   3         2      21972                 34   \n",
       "4          3                   3         2      21972                 34   \n",
       "\n",
       "   type_of_admission  severity_of_illness  visitors_with_patient  age  \\\n",
       "0                  0                    0                      2    5   \n",
       "1                  1                    0                      2    5   \n",
       "2                  1                    0                      2    5   \n",
       "3                  1                    0                      2    5   \n",
       "4                  1                    0                      2    5   \n",
       "\n",
       "   admission_deposit   stay  \n",
       "0               2954   0-10  \n",
       "1               3997  41-50  \n",
       "2               2788  31-40  \n",
       "3               5315  41-50  \n",
       "4               3601  41-50  "
      ]
     },
     "execution_count": 38,
     "metadata": {},
     "output_type": "execute_result"
    }
   ],
   "source": [
    "train_data.head()"
   ]
  },
  {
   "cell_type": "code",
   "execution_count": 39,
   "metadata": {},
   "outputs": [
    {
     "data": {
      "text/plain": [
       "(318438, 18)"
      ]
     },
     "execution_count": 39,
     "metadata": {},
     "output_type": "execute_result"
    }
   ],
   "source": [
    "train_data.shape"
   ]
  },
  {
   "cell_type": "code",
   "execution_count": 40,
   "metadata": {},
   "outputs": [],
   "source": [
    "ss = StandardScaler()\n",
    "\n",
    "for column in train_data.columns[~(train_data.columns.isin(['case_id', 'stay']))].tolist():\n",
    "    train_data[[column]] = ss.fit_transform(train_data[[column]])\n",
    "    test_data[[column]] = ss.fit_transform(test_data[[column]])"
   ]
  },
  {
   "cell_type": "code",
   "execution_count": 41,
   "metadata": {},
   "outputs": [
    {
     "data": {
      "text/html": [
       "<div>\n",
       "<style scoped>\n",
       "    .dataframe tbody tr th:only-of-type {\n",
       "        vertical-align: middle;\n",
       "    }\n",
       "\n",
       "    .dataframe tbody tr th {\n",
       "        vertical-align: top;\n",
       "    }\n",
       "\n",
       "    .dataframe thead th {\n",
       "        text-align: right;\n",
       "    }\n",
       "</style>\n",
       "<table border=\"1\" class=\"dataframe\">\n",
       "  <thead>\n",
       "    <tr style=\"text-align: right;\">\n",
       "      <th></th>\n",
       "      <th>case_id</th>\n",
       "      <th>hospital_code</th>\n",
       "      <th>hospital_type_code</th>\n",
       "      <th>city_code_hospital</th>\n",
       "      <th>hospital_region_code</th>\n",
       "      <th>available_extra_rooms_in_hospital</th>\n",
       "      <th>department</th>\n",
       "      <th>ward_type</th>\n",
       "      <th>ward_facility_code</th>\n",
       "      <th>bed_grade</th>\n",
       "      <th>patientid</th>\n",
       "      <th>city_code_patient</th>\n",
       "      <th>type_of_admission</th>\n",
       "      <th>severity_of_illness</th>\n",
       "      <th>visitors_with_patient</th>\n",
       "      <th>age</th>\n",
       "      <th>admission_deposit</th>\n",
       "      <th>stay</th>\n",
       "    </tr>\n",
       "  </thead>\n",
       "  <tbody>\n",
       "    <tr>\n",
       "      <th>0</th>\n",
       "      <td>1</td>\n",
       "      <td>-1.195176</td>\n",
       "      <td>0.483919</td>\n",
       "      <td>-0.568676</td>\n",
       "      <td>1.623734</td>\n",
       "      <td>-0.169283</td>\n",
       "      <td>1.881928</td>\n",
       "      <td>0.138476</td>\n",
       "      <td>1.014833</td>\n",
       "      <td>-0.716728</td>\n",
       "      <td>-0.905964</td>\n",
       "      <td>0.69064</td>\n",
       "      <td>-1.136165</td>\n",
       "      <td>-1.788287</td>\n",
       "      <td>-0.729304</td>\n",
       "      <td>0.4616</td>\n",
       "      <td>0.030478</td>\n",
       "      <td>0-10</td>\n",
       "    </tr>\n",
       "    <tr>\n",
       "      <th>1</th>\n",
       "      <td>2</td>\n",
       "      <td>-1.890124</td>\n",
       "      <td>0.483919</td>\n",
       "      <td>0.143906</td>\n",
       "      <td>1.623734</td>\n",
       "      <td>-1.026297</td>\n",
       "      <td>1.881928</td>\n",
       "      <td>1.381246</td>\n",
       "      <td>1.014833</td>\n",
       "      <td>-0.716728</td>\n",
       "      <td>-0.905964</td>\n",
       "      <td>0.69064</td>\n",
       "      <td>0.315306</td>\n",
       "      <td>-1.788287</td>\n",
       "      <td>-0.729304</td>\n",
       "      <td>0.4616</td>\n",
       "      <td>0.999811</td>\n",
       "      <td>41-50</td>\n",
       "    </tr>\n",
       "    <tr>\n",
       "      <th>2</th>\n",
       "      <td>3</td>\n",
       "      <td>-0.963527</td>\n",
       "      <td>1.786248</td>\n",
       "      <td>-1.281258</td>\n",
       "      <td>-1.033982</td>\n",
       "      <td>-1.026297</td>\n",
       "      <td>-1.681582</td>\n",
       "      <td>1.381246</td>\n",
       "      <td>0.422433</td>\n",
       "      <td>-0.716728</td>\n",
       "      <td>-0.905964</td>\n",
       "      <td>0.69064</td>\n",
       "      <td>0.315306</td>\n",
       "      <td>-1.788287</td>\n",
       "      <td>-0.729304</td>\n",
       "      <td>0.4616</td>\n",
       "      <td>-0.123797</td>\n",
       "      <td>31-40</td>\n",
       "    </tr>\n",
       "    <tr>\n",
       "      <th>3</th>\n",
       "      <td>4</td>\n",
       "      <td>0.889668</td>\n",
       "      <td>-0.167246</td>\n",
       "      <td>-0.924967</td>\n",
       "      <td>0.294876</td>\n",
       "      <td>-1.026297</td>\n",
       "      <td>1.881928</td>\n",
       "      <td>0.138476</td>\n",
       "      <td>-0.169967</td>\n",
       "      <td>-0.716728</td>\n",
       "      <td>-0.905964</td>\n",
       "      <td>0.69064</td>\n",
       "      <td>0.315306</td>\n",
       "      <td>-1.788287</td>\n",
       "      <td>-0.729304</td>\n",
       "      <td>0.4616</td>\n",
       "      <td>2.224721</td>\n",
       "      <td>41-50</td>\n",
       "    </tr>\n",
       "    <tr>\n",
       "      <th>4</th>\n",
       "      <td>5</td>\n",
       "      <td>0.889668</td>\n",
       "      <td>-0.167246</td>\n",
       "      <td>-0.924967</td>\n",
       "      <td>0.294876</td>\n",
       "      <td>-1.026297</td>\n",
       "      <td>1.881928</td>\n",
       "      <td>1.381246</td>\n",
       "      <td>-0.169967</td>\n",
       "      <td>-0.716728</td>\n",
       "      <td>-0.905964</td>\n",
       "      <td>0.69064</td>\n",
       "      <td>0.315306</td>\n",
       "      <td>-1.788287</td>\n",
       "      <td>-0.729304</td>\n",
       "      <td>0.4616</td>\n",
       "      <td>0.631781</td>\n",
       "      <td>41-50</td>\n",
       "    </tr>\n",
       "  </tbody>\n",
       "</table>\n",
       "</div>"
      ],
      "text/plain": [
       "   case_id  hospital_code  hospital_type_code  city_code_hospital  \\\n",
       "0        1      -1.195176            0.483919           -0.568676   \n",
       "1        2      -1.890124            0.483919            0.143906   \n",
       "2        3      -0.963527            1.786248           -1.281258   \n",
       "3        4       0.889668           -0.167246           -0.924967   \n",
       "4        5       0.889668           -0.167246           -0.924967   \n",
       "\n",
       "   hospital_region_code  available_extra_rooms_in_hospital  department  \\\n",
       "0              1.623734                          -0.169283    1.881928   \n",
       "1              1.623734                          -1.026297    1.881928   \n",
       "2             -1.033982                          -1.026297   -1.681582   \n",
       "3              0.294876                          -1.026297    1.881928   \n",
       "4              0.294876                          -1.026297    1.881928   \n",
       "\n",
       "   ward_type  ward_facility_code  bed_grade  patientid  city_code_patient  \\\n",
       "0   0.138476            1.014833  -0.716728  -0.905964            0.69064   \n",
       "1   1.381246            1.014833  -0.716728  -0.905964            0.69064   \n",
       "2   1.381246            0.422433  -0.716728  -0.905964            0.69064   \n",
       "3   0.138476           -0.169967  -0.716728  -0.905964            0.69064   \n",
       "4   1.381246           -0.169967  -0.716728  -0.905964            0.69064   \n",
       "\n",
       "   type_of_admission  severity_of_illness  visitors_with_patient     age  \\\n",
       "0          -1.136165            -1.788287              -0.729304  0.4616   \n",
       "1           0.315306            -1.788287              -0.729304  0.4616   \n",
       "2           0.315306            -1.788287              -0.729304  0.4616   \n",
       "3           0.315306            -1.788287              -0.729304  0.4616   \n",
       "4           0.315306            -1.788287              -0.729304  0.4616   \n",
       "\n",
       "   admission_deposit   stay  \n",
       "0           0.030478   0-10  \n",
       "1           0.999811  41-50  \n",
       "2          -0.123797  31-40  \n",
       "3           2.224721  41-50  \n",
       "4           0.631781  41-50  "
      ]
     },
     "execution_count": 41,
     "metadata": {},
     "output_type": "execute_result"
    }
   ],
   "source": [
    "train_data.head()"
   ]
  },
  {
   "cell_type": "code",
   "execution_count": 42,
   "metadata": {},
   "outputs": [],
   "source": [
    "train_data.dropna(inplace=True)\n",
    "X=train_data.drop(['stay','case_id'],axis=1).astype('float32')\n",
    "y=train_data['stay']\n"
   ]
  },
  {
   "cell_type": "code",
   "execution_count": 43,
   "metadata": {},
   "outputs": [],
   "source": [
    "X_train, X_test, y_train, y_test = train_test_split(X, y, test_size=0.3, random_state=1)"
   ]
  },
  {
   "cell_type": "code",
   "execution_count": 53,
   "metadata": {},
   "outputs": [
    {
     "name": "stdout",
     "output_type": "stream",
     "text": [
      "Accuracy on Train Set:  0.4353018260803224\n",
      "Accuracy on Test Set:  0.4222706234685543\n"
     ]
    }
   ],
   "source": [
    "import lightgbm as lgb\n",
    "lgbc = lgb.LGBMClassifier(random_state=1)\n",
    "\n",
    "lgbc.fit(X_train, y_train)\n",
    "\n",
    "y_pred_test = lgbc.predict(X_test)\n",
    "y_prob_test = lgbc.predict_proba(X_test)[:,1]\n",
    "\n",
    "y_pred_train = lgbc.predict(X_train)\n",
    "y_prob_train = lgbc.predict_proba(X_train)[:,1]\n",
    "\n",
    "print('Accuracy on Train Set: ', accuracy_score(y_train, y_pred_train))\n",
    "print('Accuracy on Test Set: ', accuracy_score(y_test, y_pred_test))"
   ]
  },
  {
   "cell_type": "code",
   "execution_count": 45,
   "metadata": {},
   "outputs": [
    {
     "data": {
      "text/plain": [
       "{'max_depth': 8, 'min_child_samples': 19, 'n_estimators': 9, 'num_leaves': 7}"
      ]
     },
     "execution_count": 45,
     "metadata": {},
     "output_type": "execute_result"
    }
   ],
   "source": [
    "# Hyperparameter Tuning\n",
    "from sklearn.model_selection import RandomizedSearchCV\n",
    "\n",
    "from scipy.stats import randint as sp_randint\n",
    "\n",
    "lgbc = lgb.LGBMClassifier(random_state=1)\n",
    "\n",
    "params = {'n_estimators': sp_randint(5,10),\n",
    "          'max_depth' : sp_randint(2,10),\n",
    "          'min_child_samples' : sp_randint(1,20),\n",
    "          'num_leaves' : sp_randint(5,10)}\n",
    "\n",
    "rand_search_lgbc = RandomizedSearchCV(lgbc, param_distributions=params, random_state=1, cv=3)\n",
    "\n",
    "rand_search_lgbc.fit(X_train, y_train)\n",
    "\n",
    "rand_search_lgbc.best_params_"
   ]
  },
  {
   "cell_type": "code",
   "execution_count": 49,
   "metadata": {},
   "outputs": [
    {
     "name": "stdout",
     "output_type": "stream",
     "text": [
      "Accuracy on Train Set:  0.37267027783886153\n",
      "Accuracy on Test Set:  0.3705627342981005\n"
     ]
    }
   ],
   "source": [
    "# Passing best parameter for the Hyperparameter Tuning\n",
    "lgbc_ht = lgb.LGBMClassifier(**rand_search_lgbc.best_params_, random_state=1)\n",
    "\n",
    "lgbc_ht.fit(X_train, y_train)\n",
    "\n",
    "y_pred_test = lgbc_ht.predict(X_test)\n",
    "y_prob_test = lgbc_ht.predict_proba(X_test)[:,1]\n",
    "\n",
    "y_pred_train = lgbc_ht.predict(X_train)\n",
    "y_prob_train = lgbc_ht.predict_proba(X_train)[:,1]\n",
    "\n",
    "print('Accuracy on Train Set: ', accuracy_score(y_train, y_pred_train))\n",
    "print('Accuracy on Test Set: ', accuracy_score(y_test, y_pred_test))"
   ]
  },
  {
   "cell_type": "code",
   "execution_count": 50,
   "metadata": {},
   "outputs": [],
   "source": [
    "test_data = test_data.fillna(method='ffill')"
   ]
  },
  {
   "cell_type": "code",
   "execution_count": 54,
   "metadata": {},
   "outputs": [
    {
     "data": {
      "text/html": [
       "<div>\n",
       "<style scoped>\n",
       "    .dataframe tbody tr th:only-of-type {\n",
       "        vertical-align: middle;\n",
       "    }\n",
       "\n",
       "    .dataframe tbody tr th {\n",
       "        vertical-align: top;\n",
       "    }\n",
       "\n",
       "    .dataframe thead th {\n",
       "        text-align: right;\n",
       "    }\n",
       "</style>\n",
       "<table border=\"1\" class=\"dataframe\">\n",
       "  <thead>\n",
       "    <tr style=\"text-align: right;\">\n",
       "      <th></th>\n",
       "      <th>case_id</th>\n",
       "      <th>Stay</th>\n",
       "    </tr>\n",
       "  </thead>\n",
       "  <tbody>\n",
       "    <tr>\n",
       "      <th>0</th>\n",
       "      <td>318439</td>\n",
       "      <td>0-10</td>\n",
       "    </tr>\n",
       "    <tr>\n",
       "      <th>1</th>\n",
       "      <td>318440</td>\n",
       "      <td>51-60</td>\n",
       "    </tr>\n",
       "    <tr>\n",
       "      <th>2</th>\n",
       "      <td>318441</td>\n",
       "      <td>21-30</td>\n",
       "    </tr>\n",
       "    <tr>\n",
       "      <th>3</th>\n",
       "      <td>318442</td>\n",
       "      <td>21-30</td>\n",
       "    </tr>\n",
       "    <tr>\n",
       "      <th>4</th>\n",
       "      <td>318443</td>\n",
       "      <td>51-60</td>\n",
       "    </tr>\n",
       "  </tbody>\n",
       "</table>\n",
       "</div>"
      ],
      "text/plain": [
       "   case_id   Stay\n",
       "0   318439   0-10\n",
       "1   318440  51-60\n",
       "2   318441  21-30\n",
       "3   318442  21-30\n",
       "4   318443  51-60"
      ]
     },
     "execution_count": 54,
     "metadata": {},
     "output_type": "execute_result"
    }
   ],
   "source": [
    "\n",
    "predictions = lgbc.predict(test_data[test_data.columns[~(test_data.columns.isin(['case_id']))].tolist()].values)\n",
    "submission = pd.DataFrame({'case_id': test_data['case_id'], 'Stay': predictions.ravel()})\n",
    "submission.to_csv('av_healthcare_v1.csv', index = False)\n",
    "submission.head()"
   ]
  },
  {
   "cell_type": "code",
   "execution_count": null,
   "metadata": {},
   "outputs": [],
   "source": []
  }
 ],
 "metadata": {
  "kernelspec": {
   "display_name": "Python 3",
   "language": "python",
   "name": "python3"
  },
  "language_info": {
   "codemirror_mode": {
    "name": "ipython",
    "version": 3
   },
   "file_extension": ".py",
   "mimetype": "text/x-python",
   "name": "python",
   "nbconvert_exporter": "python",
   "pygments_lexer": "ipython3",
   "version": "3.7.7"
  }
 },
 "nbformat": 4,
 "nbformat_minor": 4
}
